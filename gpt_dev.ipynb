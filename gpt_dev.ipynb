{
  "nbformat": 4,
  "nbformat_minor": 0,
  "metadata": {
    "colab": {
      "provenance": [],
      "include_colab_link": true
    },
    "kernelspec": {
      "name": "python3",
      "display_name": "Python 3"
    },
    "language_info": {
      "name": "python"
    }
  },
  "cells": [
    {
      "cell_type": "markdown",
      "metadata": {
        "id": "view-in-github",
        "colab_type": "text"
      },
      "source": [
        "<a href=\"https://colab.research.google.com/github/ivas-saxobank/t01/blob/main/gpt_dev.ipynb\" target=\"_parent\"><img src=\"https://colab.research.google.com/assets/colab-badge.svg\" alt=\"Open In Colab\"/></a>"
      ]
    },
    {
      "cell_type": "markdown",
      "source": [
        "## Building a GPT\n",
        "\n",
        "Companion notebook to the [Zero To Hero](https://karpathy.ai/zero-to-hero.html) video on GPT."
      ],
      "metadata": {
        "id": "wJpXpmjEYC_T"
      }
    },
    {
      "cell_type": "code",
      "execution_count": 1,
      "metadata": {
        "colab": {
          "base_uri": "https://localhost:8080/"
        },
        "id": "h5hjCcLDr2WC",
        "outputId": "d0281106-06a6-42de-b32f-2db02e1305e3"
      },
      "outputs": [
        {
          "output_type": "stream",
          "name": "stdout",
          "text": [
            "--2024-12-04 14:33:41--  https://raw.githubusercontent.com/karpathy/char-rnn/master/data/tinyshakespeare/input.txt\n",
            "Resolving raw.githubusercontent.com (raw.githubusercontent.com)... 185.199.108.133, 185.199.109.133, 185.199.110.133, ...\n",
            "Connecting to raw.githubusercontent.com (raw.githubusercontent.com)|185.199.108.133|:443... connected.\n",
            "HTTP request sent, awaiting response... 200 OK\n",
            "Length: 1115394 (1.1M) [text/plain]\n",
            "Saving to: ‘input.txt’\n",
            "\n",
            "\rinput.txt             0%[                    ]       0  --.-KB/s               \rinput.txt           100%[===================>]   1.06M  --.-KB/s    in 0.01s   \n",
            "\n",
            "2024-12-04 14:33:41 (89.5 MB/s) - ‘input.txt’ saved [1115394/1115394]\n",
            "\n"
          ]
        }
      ],
      "source": [
        "# We always start with a dataset to train on. Let's download the tiny shakespeare dataset\n",
        "!wget https://raw.githubusercontent.com/karpathy/char-rnn/master/data/tinyshakespeare/input.txt"
      ]
    },
    {
      "cell_type": "code",
      "source": [
        "# read it in to inspect it\n",
        "with open('input.txt', 'r', encoding='utf-8') as f:\n",
        "    text = f.read()"
      ],
      "metadata": {
        "id": "O6medjfRsLD9"
      },
      "execution_count": 2,
      "outputs": []
    },
    {
      "cell_type": "code",
      "source": [
        "print(\"length of dataset in characters: \", len(text))"
      ],
      "metadata": {
        "colab": {
          "base_uri": "https://localhost:8080/"
        },
        "id": "6xWI_VyAsN8F",
        "outputId": "fdb1331a-3d81-4d2b-f495-ee37ca81758f"
      },
      "execution_count": 3,
      "outputs": [
        {
          "output_type": "stream",
          "name": "stdout",
          "text": [
            "length of dataset in characters:  1115394\n"
          ]
        }
      ]
    },
    {
      "cell_type": "code",
      "source": [
        "# let's look at the first 1000 characters\n",
        "print(text[:1000])"
      ],
      "metadata": {
        "colab": {
          "base_uri": "https://localhost:8080/"
        },
        "id": "2c5V0FvqseE0",
        "outputId": "e6717eee-eb0e-49b8-f5f4-39bc07fc2ee1"
      },
      "execution_count": 4,
      "outputs": [
        {
          "output_type": "stream",
          "name": "stdout",
          "text": [
            "First Citizen:\n",
            "Before we proceed any further, hear me speak.\n",
            "\n",
            "All:\n",
            "Speak, speak.\n",
            "\n",
            "First Citizen:\n",
            "You are all resolved rather to die than to famish?\n",
            "\n",
            "All:\n",
            "Resolved. resolved.\n",
            "\n",
            "First Citizen:\n",
            "First, you know Caius Marcius is chief enemy to the people.\n",
            "\n",
            "All:\n",
            "We know't, we know't.\n",
            "\n",
            "First Citizen:\n",
            "Let us kill him, and we'll have corn at our own price.\n",
            "Is't a verdict?\n",
            "\n",
            "All:\n",
            "No more talking on't; let it be done: away, away!\n",
            "\n",
            "Second Citizen:\n",
            "One word, good citizens.\n",
            "\n",
            "First Citizen:\n",
            "We are accounted poor citizens, the patricians good.\n",
            "What authority surfeits on would relieve us: if they\n",
            "would yield us but the superfluity, while it were\n",
            "wholesome, we might guess they relieved us humanely;\n",
            "but they think we are too dear: the leanness that\n",
            "afflicts us, the object of our misery, is as an\n",
            "inventory to particularise their abundance; our\n",
            "sufferance is a gain to them Let us revenge this with\n",
            "our pikes, ere we become rakes: for the gods know I\n",
            "speak this in hunger for bread, not in thirst for revenge.\n",
            "\n",
            "\n"
          ]
        }
      ]
    },
    {
      "cell_type": "code",
      "source": [
        "# here are all the unique characters that occur in this text\n",
        "chars = sorted(list(set(text)))\n",
        "vocab_size = len(chars)\n",
        "print(''.join(chars))\n",
        "print(vocab_size)"
      ],
      "metadata": {
        "colab": {
          "base_uri": "https://localhost:8080/"
        },
        "id": "0e-Rbyr8sfM8",
        "outputId": "a1ba0674-d477-41f5-84d7-2c2648b3f5cf"
      },
      "execution_count": 5,
      "outputs": [
        {
          "output_type": "stream",
          "name": "stdout",
          "text": [
            "\n",
            " !$&',-.3:;?ABCDEFGHIJKLMNOPQRSTUVWXYZabcdefghijklmnopqrstuvwxyz\n",
            "65\n"
          ]
        }
      ]
    },
    {
      "cell_type": "code",
      "source": [
        "# create a mapping from characters to integers\n",
        "stoi = { ch:i for i,ch in enumerate(chars) }\n",
        "itos = { i:ch for i,ch in enumerate(chars) }\n",
        "encode = lambda s: [stoi[c] for c in s] # encoder: take a string, output a list of integers\n",
        "decode = lambda l: ''.join([itos[i] for i in l]) # decoder: take a list of integers, output a string\n",
        "\n",
        "print(encode(\"hii there\"))\n",
        "print(decode(encode(\"hii there\")))"
      ],
      "metadata": {
        "colab": {
          "base_uri": "https://localhost:8080/"
        },
        "id": "Yw1LKNCgwjj1",
        "outputId": "409d1221-85c0-4176-b604-62f62fbcd89e"
      },
      "execution_count": 6,
      "outputs": [
        {
          "output_type": "stream",
          "name": "stdout",
          "text": [
            "[46, 47, 47, 1, 58, 46, 43, 56, 43]\n",
            "hii there\n"
          ]
        }
      ]
    },
    {
      "cell_type": "code",
      "source": [
        "# let's now encode the entire text dataset and store it into a torch.Tensor\n",
        "import torch # we use PyTorch: https://pytorch.org\n",
        "data = torch.tensor(encode(text), dtype=torch.long)\n",
        "print(data.shape, data.dtype)\n",
        "print(data[:1000]) # the 1000 characters we looked at earier will to the GPT look like this"
      ],
      "metadata": {
        "colab": {
          "base_uri": "https://localhost:8080/"
        },
        "id": "YJb0OXPwzvqg",
        "outputId": "e151ba54-cabe-4740-9fda-d8c7fbb29dc9"
      },
      "execution_count": 7,
      "outputs": [
        {
          "output_type": "stream",
          "name": "stdout",
          "text": [
            "torch.Size([1115394]) torch.int64\n",
            "tensor([18, 47, 56, 57, 58,  1, 15, 47, 58, 47, 64, 43, 52, 10,  0, 14, 43, 44,\n",
            "        53, 56, 43,  1, 61, 43,  1, 54, 56, 53, 41, 43, 43, 42,  1, 39, 52, 63,\n",
            "         1, 44, 59, 56, 58, 46, 43, 56,  6,  1, 46, 43, 39, 56,  1, 51, 43,  1,\n",
            "        57, 54, 43, 39, 49,  8,  0,  0, 13, 50, 50, 10,  0, 31, 54, 43, 39, 49,\n",
            "         6,  1, 57, 54, 43, 39, 49,  8,  0,  0, 18, 47, 56, 57, 58,  1, 15, 47,\n",
            "        58, 47, 64, 43, 52, 10,  0, 37, 53, 59,  1, 39, 56, 43,  1, 39, 50, 50,\n",
            "         1, 56, 43, 57, 53, 50, 60, 43, 42,  1, 56, 39, 58, 46, 43, 56,  1, 58,\n",
            "        53,  1, 42, 47, 43,  1, 58, 46, 39, 52,  1, 58, 53,  1, 44, 39, 51, 47,\n",
            "        57, 46, 12,  0,  0, 13, 50, 50, 10,  0, 30, 43, 57, 53, 50, 60, 43, 42,\n",
            "         8,  1, 56, 43, 57, 53, 50, 60, 43, 42,  8,  0,  0, 18, 47, 56, 57, 58,\n",
            "         1, 15, 47, 58, 47, 64, 43, 52, 10,  0, 18, 47, 56, 57, 58,  6,  1, 63,\n",
            "        53, 59,  1, 49, 52, 53, 61,  1, 15, 39, 47, 59, 57,  1, 25, 39, 56, 41,\n",
            "        47, 59, 57,  1, 47, 57,  1, 41, 46, 47, 43, 44,  1, 43, 52, 43, 51, 63,\n",
            "         1, 58, 53,  1, 58, 46, 43,  1, 54, 43, 53, 54, 50, 43,  8,  0,  0, 13,\n",
            "        50, 50, 10,  0, 35, 43,  1, 49, 52, 53, 61,  5, 58,  6,  1, 61, 43,  1,\n",
            "        49, 52, 53, 61,  5, 58,  8,  0,  0, 18, 47, 56, 57, 58,  1, 15, 47, 58,\n",
            "        47, 64, 43, 52, 10,  0, 24, 43, 58,  1, 59, 57,  1, 49, 47, 50, 50,  1,\n",
            "        46, 47, 51,  6,  1, 39, 52, 42,  1, 61, 43,  5, 50, 50,  1, 46, 39, 60,\n",
            "        43,  1, 41, 53, 56, 52,  1, 39, 58,  1, 53, 59, 56,  1, 53, 61, 52,  1,\n",
            "        54, 56, 47, 41, 43,  8,  0, 21, 57,  5, 58,  1, 39,  1, 60, 43, 56, 42,\n",
            "        47, 41, 58, 12,  0,  0, 13, 50, 50, 10,  0, 26, 53,  1, 51, 53, 56, 43,\n",
            "         1, 58, 39, 50, 49, 47, 52, 45,  1, 53, 52,  5, 58, 11,  1, 50, 43, 58,\n",
            "         1, 47, 58,  1, 40, 43,  1, 42, 53, 52, 43, 10,  1, 39, 61, 39, 63,  6,\n",
            "         1, 39, 61, 39, 63,  2,  0,  0, 31, 43, 41, 53, 52, 42,  1, 15, 47, 58,\n",
            "        47, 64, 43, 52, 10,  0, 27, 52, 43,  1, 61, 53, 56, 42,  6,  1, 45, 53,\n",
            "        53, 42,  1, 41, 47, 58, 47, 64, 43, 52, 57,  8,  0,  0, 18, 47, 56, 57,\n",
            "        58,  1, 15, 47, 58, 47, 64, 43, 52, 10,  0, 35, 43,  1, 39, 56, 43,  1,\n",
            "        39, 41, 41, 53, 59, 52, 58, 43, 42,  1, 54, 53, 53, 56,  1, 41, 47, 58,\n",
            "        47, 64, 43, 52, 57,  6,  1, 58, 46, 43,  1, 54, 39, 58, 56, 47, 41, 47,\n",
            "        39, 52, 57,  1, 45, 53, 53, 42,  8,  0, 35, 46, 39, 58,  1, 39, 59, 58,\n",
            "        46, 53, 56, 47, 58, 63,  1, 57, 59, 56, 44, 43, 47, 58, 57,  1, 53, 52,\n",
            "         1, 61, 53, 59, 50, 42,  1, 56, 43, 50, 47, 43, 60, 43,  1, 59, 57, 10,\n",
            "         1, 47, 44,  1, 58, 46, 43, 63,  0, 61, 53, 59, 50, 42,  1, 63, 47, 43,\n",
            "        50, 42,  1, 59, 57,  1, 40, 59, 58,  1, 58, 46, 43,  1, 57, 59, 54, 43,\n",
            "        56, 44, 50, 59, 47, 58, 63,  6,  1, 61, 46, 47, 50, 43,  1, 47, 58,  1,\n",
            "        61, 43, 56, 43,  0, 61, 46, 53, 50, 43, 57, 53, 51, 43,  6,  1, 61, 43,\n",
            "         1, 51, 47, 45, 46, 58,  1, 45, 59, 43, 57, 57,  1, 58, 46, 43, 63,  1,\n",
            "        56, 43, 50, 47, 43, 60, 43, 42,  1, 59, 57,  1, 46, 59, 51, 39, 52, 43,\n",
            "        50, 63, 11,  0, 40, 59, 58,  1, 58, 46, 43, 63,  1, 58, 46, 47, 52, 49,\n",
            "         1, 61, 43,  1, 39, 56, 43,  1, 58, 53, 53,  1, 42, 43, 39, 56, 10,  1,\n",
            "        58, 46, 43,  1, 50, 43, 39, 52, 52, 43, 57, 57,  1, 58, 46, 39, 58,  0,\n",
            "        39, 44, 44, 50, 47, 41, 58, 57,  1, 59, 57,  6,  1, 58, 46, 43,  1, 53,\n",
            "        40, 48, 43, 41, 58,  1, 53, 44,  1, 53, 59, 56,  1, 51, 47, 57, 43, 56,\n",
            "        63,  6,  1, 47, 57,  1, 39, 57,  1, 39, 52,  0, 47, 52, 60, 43, 52, 58,\n",
            "        53, 56, 63,  1, 58, 53,  1, 54, 39, 56, 58, 47, 41, 59, 50, 39, 56, 47,\n",
            "        57, 43,  1, 58, 46, 43, 47, 56,  1, 39, 40, 59, 52, 42, 39, 52, 41, 43,\n",
            "        11,  1, 53, 59, 56,  0, 57, 59, 44, 44, 43, 56, 39, 52, 41, 43,  1, 47,\n",
            "        57,  1, 39,  1, 45, 39, 47, 52,  1, 58, 53,  1, 58, 46, 43, 51,  1, 24,\n",
            "        43, 58,  1, 59, 57,  1, 56, 43, 60, 43, 52, 45, 43,  1, 58, 46, 47, 57,\n",
            "         1, 61, 47, 58, 46,  0, 53, 59, 56,  1, 54, 47, 49, 43, 57,  6,  1, 43,\n",
            "        56, 43,  1, 61, 43,  1, 40, 43, 41, 53, 51, 43,  1, 56, 39, 49, 43, 57,\n",
            "        10,  1, 44, 53, 56,  1, 58, 46, 43,  1, 45, 53, 42, 57,  1, 49, 52, 53,\n",
            "        61,  1, 21,  0, 57, 54, 43, 39, 49,  1, 58, 46, 47, 57,  1, 47, 52,  1,\n",
            "        46, 59, 52, 45, 43, 56,  1, 44, 53, 56,  1, 40, 56, 43, 39, 42,  6,  1,\n",
            "        52, 53, 58,  1, 47, 52,  1, 58, 46, 47, 56, 57, 58,  1, 44, 53, 56,  1,\n",
            "        56, 43, 60, 43, 52, 45, 43,  8,  0,  0])\n"
          ]
        }
      ]
    },
    {
      "cell_type": "code",
      "source": [
        "# Let's now split up the data into train and validation sets\n",
        "n = int(0.9*len(data)) # first 90% will be train, rest val\n",
        "train_data = data[:n]\n",
        "val_data = data[n:]"
      ],
      "metadata": {
        "id": "f_WIXqxz0lU5"
      },
      "execution_count": 8,
      "outputs": []
    },
    {
      "cell_type": "code",
      "source": [
        "block_size = 8\n",
        "train_data[:block_size+1]"
      ],
      "metadata": {
        "colab": {
          "base_uri": "https://localhost:8080/"
        },
        "id": "TD5Bj8Y6IAD4",
        "outputId": "e5061a5a-7078-4cba-d2e4-d5e941a57758"
      },
      "execution_count": 9,
      "outputs": [
        {
          "output_type": "execute_result",
          "data": {
            "text/plain": [
              "tensor([18, 47, 56, 57, 58,  1, 15, 47, 58])"
            ]
          },
          "metadata": {},
          "execution_count": 9
        }
      ]
    },
    {
      "cell_type": "code",
      "source": [
        "x = train_data[:block_size]\n",
        "y = train_data[1:block_size+1]\n",
        "for t in range(block_size):\n",
        "    context = x[:t+1]\n",
        "    target = y[t]\n",
        "    print(f\"when input is {context} the target: {target}\")"
      ],
      "metadata": {
        "colab": {
          "base_uri": "https://localhost:8080/"
        },
        "id": "9HXDe8vGJCEn",
        "outputId": "c9840bdc-6fc1-4451-ad93-b711fbf2adaa"
      },
      "execution_count": 10,
      "outputs": [
        {
          "output_type": "stream",
          "name": "stdout",
          "text": [
            "when input is tensor([18]) the target: 47\n",
            "when input is tensor([18, 47]) the target: 56\n",
            "when input is tensor([18, 47, 56]) the target: 57\n",
            "when input is tensor([18, 47, 56, 57]) the target: 58\n",
            "when input is tensor([18, 47, 56, 57, 58]) the target: 1\n",
            "when input is tensor([18, 47, 56, 57, 58,  1]) the target: 15\n",
            "when input is tensor([18, 47, 56, 57, 58,  1, 15]) the target: 47\n",
            "when input is tensor([18, 47, 56, 57, 58,  1, 15, 47]) the target: 58\n"
          ]
        }
      ]
    },
    {
      "cell_type": "code",
      "source": [
        "torch.manual_seed(1337)\n",
        "batch_size = 4 # how many independent sequences will we process in parallel?\n",
        "block_size = 8 # what is the maximum context length for predictions?\n",
        "\n",
        "def get_batch(split):\n",
        "    # generate a small batch of data of inputs x and targets y\n",
        "    data = train_data if split == 'train' else val_data\n",
        "    ix = torch.randint(len(data) - block_size, (batch_size,))\n",
        "    x = torch.stack([data[i:i+block_size] for i in ix])\n",
        "    y = torch.stack([data[i+1:i+block_size+1] for i in ix])\n",
        "    return x, y\n",
        "\n",
        "xb, yb = get_batch('train')\n",
        "print('inputs:')\n",
        "print(xb.shape)\n",
        "print(xb)\n",
        "print('targets:')\n",
        "print(yb.shape)\n",
        "print(yb)\n",
        "\n",
        "print('----')\n",
        "\n",
        "for b in range(batch_size): # batch dimension\n",
        "    for t in range(block_size): # time dimension\n",
        "        context = xb[b, :t+1]\n",
        "        target = yb[b,t]\n",
        "        print(f\"when input is {context.tolist()} the target: {target}\")"
      ],
      "metadata": {
        "colab": {
          "base_uri": "https://localhost:8080/"
        },
        "id": "Q3k1Czf7LuA9",
        "outputId": "d64cb52c-52cb-43f9-e5ff-c7460d418dbd"
      },
      "execution_count": 11,
      "outputs": [
        {
          "output_type": "stream",
          "name": "stdout",
          "text": [
            "inputs:\n",
            "torch.Size([4, 8])\n",
            "tensor([[24, 43, 58,  5, 57,  1, 46, 43],\n",
            "        [44, 53, 56,  1, 58, 46, 39, 58],\n",
            "        [52, 58,  1, 58, 46, 39, 58,  1],\n",
            "        [25, 17, 27, 10,  0, 21,  1, 54]])\n",
            "targets:\n",
            "torch.Size([4, 8])\n",
            "tensor([[43, 58,  5, 57,  1, 46, 43, 39],\n",
            "        [53, 56,  1, 58, 46, 39, 58,  1],\n",
            "        [58,  1, 58, 46, 39, 58,  1, 46],\n",
            "        [17, 27, 10,  0, 21,  1, 54, 39]])\n",
            "----\n",
            "when input is [24] the target: 43\n",
            "when input is [24, 43] the target: 58\n",
            "when input is [24, 43, 58] the target: 5\n",
            "when input is [24, 43, 58, 5] the target: 57\n",
            "when input is [24, 43, 58, 5, 57] the target: 1\n",
            "when input is [24, 43, 58, 5, 57, 1] the target: 46\n",
            "when input is [24, 43, 58, 5, 57, 1, 46] the target: 43\n",
            "when input is [24, 43, 58, 5, 57, 1, 46, 43] the target: 39\n",
            "when input is [44] the target: 53\n",
            "when input is [44, 53] the target: 56\n",
            "when input is [44, 53, 56] the target: 1\n",
            "when input is [44, 53, 56, 1] the target: 58\n",
            "when input is [44, 53, 56, 1, 58] the target: 46\n",
            "when input is [44, 53, 56, 1, 58, 46] the target: 39\n",
            "when input is [44, 53, 56, 1, 58, 46, 39] the target: 58\n",
            "when input is [44, 53, 56, 1, 58, 46, 39, 58] the target: 1\n",
            "when input is [52] the target: 58\n",
            "when input is [52, 58] the target: 1\n",
            "when input is [52, 58, 1] the target: 58\n",
            "when input is [52, 58, 1, 58] the target: 46\n",
            "when input is [52, 58, 1, 58, 46] the target: 39\n",
            "when input is [52, 58, 1, 58, 46, 39] the target: 58\n",
            "when input is [52, 58, 1, 58, 46, 39, 58] the target: 1\n",
            "when input is [52, 58, 1, 58, 46, 39, 58, 1] the target: 46\n",
            "when input is [25] the target: 17\n",
            "when input is [25, 17] the target: 27\n",
            "when input is [25, 17, 27] the target: 10\n",
            "when input is [25, 17, 27, 10] the target: 0\n",
            "when input is [25, 17, 27, 10, 0] the target: 21\n",
            "when input is [25, 17, 27, 10, 0, 21] the target: 1\n",
            "when input is [25, 17, 27, 10, 0, 21, 1] the target: 54\n",
            "when input is [25, 17, 27, 10, 0, 21, 1, 54] the target: 39\n"
          ]
        }
      ]
    },
    {
      "cell_type": "code",
      "source": [
        "print(xb) # our input to the transformer"
      ],
      "metadata": {
        "colab": {
          "base_uri": "https://localhost:8080/"
        },
        "id": "qpyyAeIzQjlO",
        "outputId": "4d6a19b5-871c-4915-a334-3054e21ba416"
      },
      "execution_count": 12,
      "outputs": [
        {
          "output_type": "stream",
          "name": "stdout",
          "text": [
            "tensor([[24, 43, 58,  5, 57,  1, 46, 43],\n",
            "        [44, 53, 56,  1, 58, 46, 39, 58],\n",
            "        [52, 58,  1, 58, 46, 39, 58,  1],\n",
            "        [25, 17, 27, 10,  0, 21,  1, 54]])\n"
          ]
        }
      ]
    },
    {
      "cell_type": "code",
      "source": [
        "import torch\n",
        "import torch.nn as nn\n",
        "from torch.nn import functional as F\n",
        "torch.manual_seed(1337)\n",
        "\n",
        "class BigramLanguageModel(nn.Module):\n",
        "\n",
        "    def __init__(self, vocab_size):\n",
        "        super().__init__()\n",
        "        # each token directly reads off the logits for the next token from a lookup table\n",
        "        self.token_embedding_table = nn.Embedding(vocab_size, vocab_size)\n",
        "\n",
        "    def forward(self, idx, targets=None):\n",
        "\n",
        "        # idx and targets are both (B,T) tensor of integers\n",
        "        logits = self.token_embedding_table(idx) # (B,T,C)\n",
        "\n",
        "        if targets is None:\n",
        "            loss = None\n",
        "        else:\n",
        "            B, T, C = logits.shape\n",
        "            logits = logits.view(B*T, C)\n",
        "            targets = targets.view(B*T)\n",
        "            loss = F.cross_entropy(logits, targets)\n",
        "\n",
        "        return logits, loss\n",
        "\n",
        "    def generate(self, idx, max_new_tokens):\n",
        "        # idx is (B, T) array of indices in the current context\n",
        "        for _ in range(max_new_tokens):\n",
        "            # get the predictions\n",
        "            logits, loss = self(idx)\n",
        "            # focus only on the last time step\n",
        "            logits = logits[:, -1, :] # becomes (B, C)\n",
        "            # apply softmax to get probabilities\n",
        "            probs = F.softmax(logits, dim=-1) # (B, C)\n",
        "            # sample from the distribution\n",
        "            idx_next = torch.multinomial(probs, num_samples=1) # (B, 1)\n",
        "            # append sampled index to the running sequence\n",
        "            idx = torch.cat((idx, idx_next), dim=1) # (B, T+1)\n",
        "        return idx\n",
        "\n",
        "m = BigramLanguageModel(vocab_size)\n",
        "logits, loss = m(xb, yb)\n",
        "print(logits.shape)\n",
        "print(loss)\n",
        "\n",
        "print(decode(m.generate(idx = torch.zeros((1, 1), dtype=torch.long), max_new_tokens=100)[0].tolist()))\n"
      ],
      "metadata": {
        "colab": {
          "base_uri": "https://localhost:8080/"
        },
        "id": "nql_1ER53oCf",
        "outputId": "8e6e16d3-4f84-4848-aacd-b66c87f491a3"
      },
      "execution_count": 13,
      "outputs": [
        {
          "output_type": "stream",
          "name": "stdout",
          "text": [
            "torch.Size([32, 65])\n",
            "tensor(4.8786, grad_fn=<NllLossBackward0>)\n",
            "\n",
            "Sr?qP-QWktXoL&jLDJgOLVz'RIoDqHdhsV&vLLxatjscMpwLERSPyao.qfzs$Ys$zF-w,;eEkzxjgCKFChs!iWW.ObzDnxA Ms$3\n"
          ]
        }
      ]
    },
    {
      "cell_type": "code",
      "source": [
        "# create a PyTorch optimizer\n",
        "optimizer = torch.optim.AdamW(m.parameters(), lr=1e-3)"
      ],
      "metadata": {
        "id": "eTyJ8qAaDdiF"
      },
      "execution_count": 14,
      "outputs": []
    },
    {
      "cell_type": "code",
      "source": [
        "batch_size = 32\n",
        "for steps in range(100): # increase number of steps for good results...\n",
        "\n",
        "    # sample a batch of data\n",
        "    xb, yb = get_batch('train')\n",
        "\n",
        "    # evaluate the loss\n",
        "    logits, loss = m(xb, yb)\n",
        "    optimizer.zero_grad(set_to_none=True)\n",
        "    loss.backward()\n",
        "    optimizer.step()\n",
        "\n",
        "print(loss.item())\n"
      ],
      "metadata": {
        "colab": {
          "base_uri": "https://localhost:8080/"
        },
        "id": "Hs4kI8YdEkQj",
        "outputId": "caa3d874-575c-4c5a-ded4-0637af2dbadc"
      },
      "execution_count": 15,
      "outputs": [
        {
          "output_type": "stream",
          "name": "stdout",
          "text": [
            "4.587916374206543\n"
          ]
        }
      ]
    },
    {
      "cell_type": "code",
      "source": [
        "print(decode(m.generate(idx = torch.zeros((1, 1), dtype=torch.long), max_new_tokens=500)[0].tolist()))"
      ],
      "metadata": {
        "colab": {
          "base_uri": "https://localhost:8080/"
        },
        "id": "EcVIDWAZEtjN",
        "outputId": "65fe2da5-150c-46a8-d4d5-f0d8c97fb397"
      },
      "execution_count": 16,
      "outputs": [
        {
          "output_type": "stream",
          "name": "stdout",
          "text": [
            "\n",
            "xiKi-RJ:CgqVuUa!U?qMH.uk!sCuMXvv!CJFfx;LgRyJknOEti.?I&-gPlLyulId?XlaInQ'q,lT$\n",
            "3Q&sGlvHQ?mqSq-eON\n",
            "x?SP fUAfCAuCX:bOlgiRQWN:Mphaw\n",
            "tRLKuYXEaAXxrcq-gCUzeh3w!AcyaylgYWjmJM?Uzw:inaY,:C&OECW:vmGGJAn3onAuMgia!ms$Vb q-gCOcPcUhOnxJGUGSPJWT:.?ujmJFoiNL&A'DxY,prZ?qdT;hoo'dHooXXlxf'WkHK&u3Q?rqUi.kz;?Yx?C&u3Qbfzxlyh'Vl:zyxjKXgC?\n",
            "lv'QKFiBeviNxO'm!Upm$srm&TqViqiBD3HBP!juEOpmZJyF$Fwfy!PlvWPFC\n",
            "&WDdP!Ko,px\n",
            "x\n",
            "tREOE;AJ.BeXkylOVD3KHp$e?nD,.SFbWWI'ubcL!q-tU;aXmJ&uGXHxJXI&Z!gHRpajj;l.\n",
            "pTErIBjx;JKIgoCnLGXrJSP!AU-AcbczR?\n"
          ]
        }
      ]
    },
    {
      "cell_type": "markdown",
      "source": [
        "## The mathematical trick in self-attention"
      ],
      "metadata": {
        "id": "XinV8nmAnmKN"
      }
    },
    {
      "cell_type": "code",
      "source": [
        "# toy example illustrating how matrix multiplication can be used for a \"weighted aggregation\"\n",
        "torch.manual_seed(42)\n",
        "a = torch.tril(torch.ones(3, 3))\n",
        "a = a / torch.sum(a, 1, keepdim=True)\n",
        "b = torch.randint(0,10,(3,2)).float()\n",
        "c = a @ b\n",
        "print('a=')\n",
        "print(a)\n",
        "print('--')\n",
        "print('b=')\n",
        "print(b)\n",
        "print('--')\n",
        "print('c=')\n",
        "print(c)"
      ],
      "metadata": {
        "colab": {
          "base_uri": "https://localhost:8080/"
        },
        "id": "tukiH-NbRBhA",
        "outputId": "5754827e-fd7b-4c7f-ee0b-e9ad854014d9"
      },
      "execution_count": 17,
      "outputs": [
        {
          "output_type": "stream",
          "name": "stdout",
          "text": [
            "a=\n",
            "tensor([[1.0000, 0.0000, 0.0000],\n",
            "        [0.5000, 0.5000, 0.0000],\n",
            "        [0.3333, 0.3333, 0.3333]])\n",
            "--\n",
            "b=\n",
            "tensor([[2., 7.],\n",
            "        [6., 4.],\n",
            "        [6., 5.]])\n",
            "--\n",
            "c=\n",
            "tensor([[2.0000, 7.0000],\n",
            "        [4.0000, 5.5000],\n",
            "        [4.6667, 5.3333]])\n"
          ]
        }
      ]
    },
    {
      "cell_type": "code",
      "source": [
        "# consider the following toy example:\n",
        "\n",
        "torch.manual_seed(1337)\n",
        "B,T,C = 4,8,2 # batch, time, channels\n",
        "x = torch.randn(B,T,C)\n",
        "x.shape"
      ],
      "metadata": {
        "colab": {
          "base_uri": "https://localhost:8080/"
        },
        "id": "Hs_E24uRE8kr",
        "outputId": "364f68a8-92dd-4570-958f-c1ab97d72d8b"
      },
      "execution_count": 18,
      "outputs": [
        {
          "output_type": "execute_result",
          "data": {
            "text/plain": [
              "torch.Size([4, 8, 2])"
            ]
          },
          "metadata": {},
          "execution_count": 18
        }
      ]
    },
    {
      "cell_type": "code",
      "source": [
        "# We want x[b,t] = mean_{i<=t} x[b,i]\n",
        "xbow = torch.zeros((B,T,C))\n",
        "for b in range(B):\n",
        "    for t in range(T):\n",
        "        xprev = x[b,:t+1] # (t,C)\n",
        "        xbow[b,t] = torch.mean(xprev, 0)\n"
      ],
      "metadata": {
        "id": "86NuXX0fn7ps"
      },
      "execution_count": 19,
      "outputs": []
    },
    {
      "cell_type": "code",
      "source": [
        "# version 2: using matrix multiply for a weighted aggregation\n",
        "wei = torch.tril(torch.ones(T, T))\n",
        "wei = wei / wei.sum(1, keepdim=True)\n",
        "xbow2 = wei @ x # (B, T, T) @ (B, T, C) ----> (B, T, C)\n",
        "torch.allclose(xbow, xbow2)"
      ],
      "metadata": {
        "colab": {
          "base_uri": "https://localhost:8080/"
        },
        "id": "yhdOAd6-wXkZ",
        "outputId": "9ac661cd-cd49-4133-b3cf-381984a3bbd9"
      },
      "execution_count": 20,
      "outputs": [
        {
          "output_type": "execute_result",
          "data": {
            "text/plain": [
              "False"
            ]
          },
          "metadata": {},
          "execution_count": 20
        }
      ]
    },
    {
      "cell_type": "code",
      "source": [
        "# version 3: use Softmax\n",
        "tril = torch.tril(torch.ones(T, T))\n",
        "wei = torch.zeros((T,T))\n",
        "wei = wei.masked_fill(tril == 0, float('-inf'))\n",
        "wei = F.softmax(wei, dim=-1)\n",
        "xbow3 = wei @ x\n",
        "torch.allclose(xbow, xbow3)\n"
      ],
      "metadata": {
        "colab": {
          "base_uri": "https://localhost:8080/"
        },
        "id": "wOURrfG-ysoL",
        "outputId": "b36dd8c9-7992-4622-a725-520f831639bb"
      },
      "execution_count": 21,
      "outputs": [
        {
          "output_type": "execute_result",
          "data": {
            "text/plain": [
              "False"
            ]
          },
          "metadata": {},
          "execution_count": 21
        }
      ]
    },
    {
      "cell_type": "code",
      "source": [
        "# version 4: self-attention!\n",
        "torch.manual_seed(1337)\n",
        "B,T,C = 4,8,32 # batch, time, channels\n",
        "x = torch.randn(B,T,C)\n",
        "\n",
        "# let's see a single Head perform self-attention\n",
        "head_size = 16\n",
        "key = nn.Linear(C, head_size, bias=False)\n",
        "query = nn.Linear(C, head_size, bias=False)\n",
        "value = nn.Linear(C, head_size, bias=False)\n",
        "k = key(x)   # (B, T, 16)\n",
        "q = query(x) # (B, T, 16)\n",
        "wei =  q @ k.transpose(-2, -1) # (B, T, 16) @ (B, 16, T) ---> (B, T, T)\n",
        "\n",
        "tril = torch.tril(torch.ones(T, T))\n",
        "#wei = torch.zeros((T,T))\n",
        "wei = wei.masked_fill(tril == 0, float('-inf'))\n",
        "wei = F.softmax(wei, dim=-1)\n",
        "\n",
        "v = value(x)\n",
        "out = wei @ v\n",
        "#out = wei @ x\n",
        "\n",
        "out.shape"
      ],
      "metadata": {
        "colab": {
          "base_uri": "https://localhost:8080/"
        },
        "id": "EDarxEWIRMKq",
        "outputId": "79058c38-ead6-4375-b8ed-5badac676f44"
      },
      "execution_count": 22,
      "outputs": [
        {
          "output_type": "execute_result",
          "data": {
            "text/plain": [
              "torch.Size([4, 8, 16])"
            ]
          },
          "metadata": {},
          "execution_count": 22
        }
      ]
    },
    {
      "cell_type": "code",
      "source": [
        "wei[0]"
      ],
      "metadata": {
        "colab": {
          "base_uri": "https://localhost:8080/"
        },
        "id": "vT1hdtzXCjgL",
        "outputId": "13d07bd5-8a7d-4124-e9f1-173f3548e894"
      },
      "execution_count": 23,
      "outputs": [
        {
          "output_type": "execute_result",
          "data": {
            "text/plain": [
              "tensor([[1.0000, 0.0000, 0.0000, 0.0000, 0.0000, 0.0000, 0.0000, 0.0000],\n",
              "        [0.1574, 0.8426, 0.0000, 0.0000, 0.0000, 0.0000, 0.0000, 0.0000],\n",
              "        [0.2088, 0.1646, 0.6266, 0.0000, 0.0000, 0.0000, 0.0000, 0.0000],\n",
              "        [0.5792, 0.1187, 0.1889, 0.1131, 0.0000, 0.0000, 0.0000, 0.0000],\n",
              "        [0.0294, 0.1052, 0.0469, 0.0276, 0.7909, 0.0000, 0.0000, 0.0000],\n",
              "        [0.0176, 0.2689, 0.0215, 0.0089, 0.6812, 0.0019, 0.0000, 0.0000],\n",
              "        [0.1691, 0.4066, 0.0438, 0.0416, 0.1048, 0.2012, 0.0329, 0.0000],\n",
              "        [0.0210, 0.0843, 0.0555, 0.2297, 0.0573, 0.0709, 0.2423, 0.2391]],\n",
              "       grad_fn=<SelectBackward0>)"
            ]
          },
          "metadata": {},
          "execution_count": 23
        }
      ]
    },
    {
      "cell_type": "markdown",
      "source": [
        "Notes:\n",
        "- Attention is a **communication mechanism**. Can be seen as nodes in a directed graph looking at each other and aggregating information with a weighted sum from all nodes that point to them, with data-dependent weights.\n",
        "- There is no notion of space. Attention simply acts over a set of vectors. This is why we need to positionally encode tokens.\n",
        "- Each example across batch dimension is of course processed completely independently and never \"talk\" to each other\n",
        "- In an \"encoder\" attention block just delete the single line that does masking with `tril`, allowing all tokens to communicate. This block here is called a \"decoder\" attention block because it has triangular masking, and is usually used in autoregressive settings, like language modeling.\n",
        "- \"self-attention\" just means that the keys and values are produced from the same source as queries. In \"cross-attention\", the queries still get produced from x, but the keys and values come from some other, external source (e.g. an encoder module)\n",
        "- \"Scaled\" attention additional divides `wei` by 1/sqrt(head_size). This makes it so when input Q,K are unit variance, wei will be unit variance too and Softmax will stay diffuse and not saturate too much. Illustration below"
      ],
      "metadata": {
        "id": "M5CvobiQ0pLr"
      }
    },
    {
      "cell_type": "code",
      "source": [
        "k = torch.randn(B,T,head_size)\n",
        "q = torch.randn(B,T,head_size)\n",
        "wei = q @ k.transpose(-2, -1) * head_size**-0.5"
      ],
      "metadata": {
        "id": "4SNbLq5z3oBw"
      },
      "execution_count": 24,
      "outputs": []
    },
    {
      "cell_type": "code",
      "source": [
        "k.var()"
      ],
      "metadata": {
        "colab": {
          "base_uri": "https://localhost:8080/"
        },
        "id": "Nl6I9n9IRTSo",
        "outputId": "1da8cac5-68dd-49d1-dd58-07efaa4712a1"
      },
      "execution_count": 25,
      "outputs": [
        {
          "output_type": "execute_result",
          "data": {
            "text/plain": [
              "tensor(1.0449)"
            ]
          },
          "metadata": {},
          "execution_count": 25
        }
      ]
    },
    {
      "cell_type": "code",
      "source": [
        "q.var()"
      ],
      "metadata": {
        "colab": {
          "base_uri": "https://localhost:8080/"
        },
        "id": "T1tQx7oeRvtc",
        "outputId": "4d7a5e2f-f137-4a75-e150-a105ee7034ba"
      },
      "execution_count": 26,
      "outputs": [
        {
          "output_type": "execute_result",
          "data": {
            "text/plain": [
              "tensor(1.0700)"
            ]
          },
          "metadata": {},
          "execution_count": 26
        }
      ]
    },
    {
      "cell_type": "code",
      "source": [
        "wei.var()"
      ],
      "metadata": {
        "colab": {
          "base_uri": "https://localhost:8080/"
        },
        "id": "MLb_odHU3iKM",
        "outputId": "c29ba562-543e-4f59-dc43-b0eeda77047a"
      },
      "execution_count": 27,
      "outputs": [
        {
          "output_type": "execute_result",
          "data": {
            "text/plain": [
              "tensor(1.0918)"
            ]
          },
          "metadata": {},
          "execution_count": 27
        }
      ]
    },
    {
      "cell_type": "code",
      "source": [
        "torch.softmax(torch.tensor([0.1, -0.2, 0.3, -0.2, 0.5]), dim=-1)"
      ],
      "metadata": {
        "colab": {
          "base_uri": "https://localhost:8080/"
        },
        "id": "JB82yzt44REI",
        "outputId": "176428e0-e6be-43d9-cc27-4e031954f0a5"
      },
      "execution_count": 28,
      "outputs": [
        {
          "output_type": "execute_result",
          "data": {
            "text/plain": [
              "tensor([0.1925, 0.1426, 0.2351, 0.1426, 0.2872])"
            ]
          },
          "metadata": {},
          "execution_count": 28
        }
      ]
    },
    {
      "cell_type": "code",
      "source": [
        "torch.softmax(torch.tensor([0.1, -0.2, 0.3, -0.2, 0.5])*8, dim=-1) # gets too peaky, converges to one-hot"
      ],
      "metadata": {
        "colab": {
          "base_uri": "https://localhost:8080/"
        },
        "id": "Mpt8569BB9_f",
        "outputId": "2a5e935b-ea1a-4ae7-bf41-9006967388b1"
      },
      "execution_count": 29,
      "outputs": [
        {
          "output_type": "execute_result",
          "data": {
            "text/plain": [
              "tensor([0.0326, 0.0030, 0.1615, 0.0030, 0.8000])"
            ]
          },
          "metadata": {},
          "execution_count": 29
        }
      ]
    },
    {
      "cell_type": "code",
      "source": [
        "class LayerNorm1d: # (used to be BatchNorm1d)\n",
        "\n",
        "  def __init__(self, dim, eps=1e-5, momentum=0.1):\n",
        "    self.eps = eps\n",
        "    self.gamma = torch.ones(dim)\n",
        "    self.beta = torch.zeros(dim)\n",
        "\n",
        "  def __call__(self, x):\n",
        "    # calculate the forward pass\n",
        "    xmean = x.mean(1, keepdim=True) # batch mean\n",
        "    xvar = x.var(1, keepdim=True) # batch variance\n",
        "    xhat = (x - xmean) / torch.sqrt(xvar + self.eps) # normalize to unit variance\n",
        "    self.out = self.gamma * xhat + self.beta\n",
        "    return self.out\n",
        "\n",
        "  def parameters(self):\n",
        "    return [self.gamma, self.beta]\n",
        "\n",
        "torch.manual_seed(1337)\n",
        "module = LayerNorm1d(100)\n",
        "x = torch.randn(32, 100) # batch size 32 of 100-dimensional vectors\n",
        "x = module(x)\n",
        "x.shape"
      ],
      "metadata": {
        "colab": {
          "base_uri": "https://localhost:8080/"
        },
        "id": "2Num7sX9CKOH",
        "outputId": "9b9f0ba9-92dc-4dfe-f9f5-6f74c05defef"
      },
      "execution_count": 30,
      "outputs": [
        {
          "output_type": "execute_result",
          "data": {
            "text/plain": [
              "torch.Size([32, 100])"
            ]
          },
          "metadata": {},
          "execution_count": 30
        }
      ]
    },
    {
      "cell_type": "code",
      "source": [
        "x[:,0].mean(), x[:,0].std() # mean,std of one feature across all batch inputs"
      ],
      "metadata": {
        "colab": {
          "base_uri": "https://localhost:8080/"
        },
        "id": "633T2cmnW1uk",
        "outputId": "f19f7bda-4b65-4c49-e7c7-38e8d39a9d1f"
      },
      "execution_count": 31,
      "outputs": [
        {
          "output_type": "execute_result",
          "data": {
            "text/plain": [
              "(tensor(0.1469), tensor(0.8803))"
            ]
          },
          "metadata": {},
          "execution_count": 31
        }
      ]
    },
    {
      "cell_type": "code",
      "source": [
        "x[0,:].mean(), x[0,:].std() # mean,std of a single input from the batch, of its features"
      ],
      "metadata": {
        "colab": {
          "base_uri": "https://localhost:8080/"
        },
        "id": "LN9cK9BoXCYb",
        "outputId": "9f5d8b1c-8733-472f-c673-f5cce349ca55"
      },
      "execution_count": 32,
      "outputs": [
        {
          "output_type": "execute_result",
          "data": {
            "text/plain": [
              "(tensor(-9.5367e-09), tensor(1.0000))"
            ]
          },
          "metadata": {},
          "execution_count": 32
        }
      ]
    },
    {
      "cell_type": "code",
      "source": [
        "# French to English translation example:\n",
        "\n",
        "# <--------- ENCODE ------------------><--------------- DECODE ----------------->\n",
        "# les réseaux de neurones sont géniaux! <START> neural networks are awesome!<END>\n",
        "\n"
      ],
      "metadata": {
        "id": "dRJH6wM_XFfU"
      },
      "execution_count": 33,
      "outputs": []
    },
    {
      "cell_type": "markdown",
      "source": [
        "### Full finished code, for reference\n",
        "\n",
        "You may want to refer directly to the git repo instead though."
      ],
      "metadata": {
        "id": "ZcvKeBXoZFOY"
      }
    },
    {
      "cell_type": "code",
      "source": [
        "import torch\n",
        "import torch.nn as nn\n",
        "from torch.nn import functional as F\n",
        "\n",
        "# hyperparameters\n",
        "batch_size = 16 # how many independent sequences will we process in parallel?\n",
        "block_size = 32 # what is the maximum context length for predictions?\n",
        "max_iters = 50000\n",
        "eval_interval = 100\n",
        "learning_rate = 1e-3\n",
        "device = 'cuda' if torch.cuda.is_available() else 'cpu'\n",
        "eval_iters = 200\n",
        "n_embd = 64\n",
        "n_head = 4\n",
        "n_layer = 4\n",
        "dropout = 0.0\n",
        "# ------------\n",
        "\n",
        "torch.manual_seed(1337)\n",
        "\n",
        "# wget https://raw.githubusercontent.com/karpathy/char-rnn/master/data/tinyshakespeare/input.txt\n",
        "with open('input.txt', 'r', encoding='utf-8') as f:\n",
        "    text = f.read()\n",
        "\n",
        "# here are all the unique characters that occur in this text\n",
        "chars = sorted(list(set(text)))\n",
        "vocab_size = len(chars)\n",
        "# create a mapping from characters to integers\n",
        "stoi = { ch:i for i,ch in enumerate(chars) }\n",
        "itos = { i:ch for i,ch in enumerate(chars) }\n",
        "encode = lambda s: [stoi[c] for c in s] # encoder: take a string, output a list of integers\n",
        "decode = lambda l: ''.join([itos[i] for i in l]) # decoder: take a list of integers, output a string\n",
        "\n",
        "# Train and test splits\n",
        "data = torch.tensor(encode(text), dtype=torch.long)\n",
        "n = int(0.9*len(data)) # first 90% will be train, rest val\n",
        "train_data = data[:n]\n",
        "val_data = data[n:]\n",
        "\n",
        "# data loading\n",
        "def get_batch(split):\n",
        "    # generate a small batch of data of inputs x and targets y\n",
        "    data = train_data if split == 'train' else val_data\n",
        "    ix = torch.randint(len(data) - block_size, (batch_size,))\n",
        "    x = torch.stack([data[i:i+block_size] for i in ix])\n",
        "    y = torch.stack([data[i+1:i+block_size+1] for i in ix])\n",
        "    x, y = x.to(device), y.to(device)\n",
        "    return x, y\n",
        "\n",
        "@torch.no_grad()\n",
        "def estimate_loss():\n",
        "    out = {}\n",
        "    model.eval()\n",
        "    for split in ['train', 'val']:\n",
        "        losses = torch.zeros(eval_iters)\n",
        "        for k in range(eval_iters):\n",
        "            X, Y = get_batch(split)\n",
        "            logits, loss = model(X, Y)\n",
        "            losses[k] = loss.item()\n",
        "        out[split] = losses.mean()\n",
        "    model.train()\n",
        "    return out\n",
        "\n",
        "class Head(nn.Module):\n",
        "    \"\"\" one head of self-attention \"\"\"\n",
        "\n",
        "    def __init__(self, head_size):\n",
        "        super().__init__()\n",
        "        self.key = nn.Linear(n_embd, head_size, bias=False)\n",
        "        self.query = nn.Linear(n_embd, head_size, bias=False)\n",
        "        self.value = nn.Linear(n_embd, head_size, bias=False)\n",
        "        self.register_buffer('tril', torch.tril(torch.ones(block_size, block_size)))\n",
        "\n",
        "        self.dropout = nn.Dropout(dropout)\n",
        "\n",
        "    def forward(self, x):\n",
        "        B,T,C = x.shape\n",
        "        k = self.key(x)   # (B,T,C)\n",
        "        q = self.query(x) # (B,T,C)\n",
        "        # compute attention scores (\"affinities\")\n",
        "        wei = q @ k.transpose(-2,-1) * C**-0.5 # (B, T, C) @ (B, C, T) -> (B, T, T)\n",
        "        wei = wei.masked_fill(self.tril[:T, :T] == 0, float('-inf')) # (B, T, T)\n",
        "        wei = F.softmax(wei, dim=-1) # (B, T, T)\n",
        "        wei = self.dropout(wei)\n",
        "        # perform the weighted aggregation of the values\n",
        "        v = self.value(x) # (B,T,C)\n",
        "        out = wei @ v # (B, T, T) @ (B, T, C) -> (B, T, C)\n",
        "        return out\n",
        "\n",
        "class MultiHeadAttention(nn.Module):\n",
        "    \"\"\" multiple heads of self-attention in parallel \"\"\"\n",
        "\n",
        "    def __init__(self, num_heads, head_size):\n",
        "        super().__init__()\n",
        "        self.heads = nn.ModuleList([Head(head_size) for _ in range(num_heads)])\n",
        "        self.proj = nn.Linear(n_embd, n_embd)\n",
        "        self.dropout = nn.Dropout(dropout)\n",
        "\n",
        "    def forward(self, x):\n",
        "        out = torch.cat([h(x) for h in self.heads], dim=-1)\n",
        "        out = self.dropout(self.proj(out))\n",
        "        return out\n",
        "\n",
        "class FeedFoward(nn.Module):\n",
        "    \"\"\" a simple linear layer followed by a non-linearity \"\"\"\n",
        "\n",
        "    def __init__(self, n_embd):\n",
        "        super().__init__()\n",
        "        self.net = nn.Sequential(\n",
        "            nn.Linear(n_embd, 4 * n_embd),\n",
        "            nn.ReLU(),\n",
        "            nn.Linear(4 * n_embd, n_embd),\n",
        "            nn.Dropout(dropout),\n",
        "        )\n",
        "\n",
        "    def forward(self, x):\n",
        "        return self.net(x)\n",
        "\n",
        "class Block(nn.Module):\n",
        "    \"\"\" Transformer block: communication followed by computation \"\"\"\n",
        "\n",
        "    def __init__(self, n_embd, n_head):\n",
        "        # n_embd: embedding dimension, n_head: the number of heads we'd like\n",
        "        super().__init__()\n",
        "        head_size = n_embd // n_head\n",
        "        self.sa = MultiHeadAttention(n_head, head_size)\n",
        "        self.ffwd = FeedFoward(n_embd)\n",
        "        self.ln1 = nn.LayerNorm(n_embd)\n",
        "        self.ln2 = nn.LayerNorm(n_embd)\n",
        "\n",
        "    def forward(self, x):\n",
        "        x = x + self.sa(self.ln1(x))\n",
        "        x = x + self.ffwd(self.ln2(x))\n",
        "        return x\n",
        "\n",
        "# super simple bigram model\n",
        "class BigramLanguageModel(nn.Module):\n",
        "\n",
        "    def __init__(self):\n",
        "        super().__init__()\n",
        "        # each token directly reads off the logits for the next token from a lookup table\n",
        "        self.token_embedding_table = nn.Embedding(vocab_size, n_embd)\n",
        "        self.position_embedding_table = nn.Embedding(block_size, n_embd)\n",
        "        self.blocks = nn.Sequential(*[Block(n_embd, n_head=n_head) for _ in range(n_layer)])\n",
        "        self.ln_f = nn.LayerNorm(n_embd) # final layer norm\n",
        "        self.lm_head = nn.Linear(n_embd, vocab_size)\n",
        "\n",
        "    def forward(self, idx, targets=None):\n",
        "        B, T = idx.shape\n",
        "\n",
        "        # idx and targets are both (B,T) tensor of integers\n",
        "        tok_emb = self.token_embedding_table(idx) # (B,T,C)\n",
        "        pos_emb = self.position_embedding_table(torch.arange(T, device=device)) # (T,C)\n",
        "        x = tok_emb + pos_emb # (B,T,C)\n",
        "        x = self.blocks(x) # (B,T,C)\n",
        "        x = self.ln_f(x) # (B,T,C)\n",
        "        logits = self.lm_head(x) # (B,T,vocab_size)\n",
        "\n",
        "        if targets is None:\n",
        "            loss = None\n",
        "        else:\n",
        "            B, T, C = logits.shape\n",
        "            logits = logits.view(B*T, C)\n",
        "            targets = targets.view(B*T)\n",
        "            loss = F.cross_entropy(logits, targets)\n",
        "\n",
        "        return logits, loss\n",
        "\n",
        "    def generate(self, idx, max_new_tokens):\n",
        "        # idx is (B, T) array of indices in the current context\n",
        "        for _ in range(max_new_tokens):\n",
        "            # crop idx to the last block_size tokens\n",
        "            idx_cond = idx[:, -block_size:]\n",
        "            # get the predictions\n",
        "            logits, loss = self(idx_cond)\n",
        "            # focus only on the last time step\n",
        "            logits = logits[:, -1, :] # becomes (B, C)\n",
        "            # apply softmax to get probabilities\n",
        "            probs = F.softmax(logits, dim=-1) # (B, C)\n",
        "            # sample from the distribution\n",
        "            idx_next = torch.multinomial(probs, num_samples=1) # (B, 1)\n",
        "            # append sampled index to the running sequence\n",
        "            idx = torch.cat((idx, idx_next), dim=1) # (B, T+1)\n",
        "        return idx\n",
        "\n",
        "model = BigramLanguageModel()\n",
        "m = model.to(device)\n",
        "# print the number of parameters in the model\n",
        "print(sum(p.numel() for p in m.parameters())/1e6, 'M parameters')\n",
        "\n",
        "# create a PyTorch optimizer\n",
        "optimizer = torch.optim.AdamW(model.parameters(), lr=learning_rate)\n",
        "\n",
        "for iter in range(max_iters):\n",
        "\n",
        "    # every once in a while evaluate the loss on train and val sets\n",
        "    if iter % eval_interval == 0 or iter == max_iters - 1:\n",
        "        losses = estimate_loss()\n",
        "        print(f\"step {iter}: train loss {losses['train']:.4f}, val loss {losses['val']:.4f}\")\n",
        "\n",
        "    # sample a batch of data\n",
        "    xb, yb = get_batch('train')\n",
        "\n",
        "    # evaluate the loss\n",
        "    logits, loss = model(xb, yb)\n",
        "    optimizer.zero_grad(set_to_none=True)\n",
        "    loss.backward()\n",
        "    optimizer.step()\n",
        "\n",
        "# generate from the model\n",
        "context = torch.zeros((1, 1), dtype=torch.long, device=device)\n",
        "print(decode(m.generate(context, max_new_tokens=2000)[0].tolist()))\n"
      ],
      "metadata": {
        "colab": {
          "base_uri": "https://localhost:8080/"
        },
        "id": "hoelkOrFY8bN",
        "outputId": "ac0771f2-81d5-4ed2-fc91-fc58c9b2778a"
      },
      "execution_count": 34,
      "outputs": [
        {
          "output_type": "stream",
          "name": "stdout",
          "text": [
            "0.209729 M parameters\n",
            "step 0: train loss 4.4116, val loss 4.4022\n",
            "step 100: train loss 2.6568, val loss 2.6670\n",
            "step 200: train loss 2.5090, val loss 2.5059\n",
            "step 300: train loss 2.4196, val loss 2.4338\n",
            "step 400: train loss 2.3504, val loss 2.3566\n",
            "step 500: train loss 2.2965, val loss 2.3129\n",
            "step 600: train loss 2.2410, val loss 2.2500\n",
            "step 700: train loss 2.2057, val loss 2.2191\n",
            "step 800: train loss 2.1633, val loss 2.1864\n",
            "step 900: train loss 2.1244, val loss 2.1510\n",
            "step 1000: train loss 2.1038, val loss 2.1308\n",
            "step 1100: train loss 2.0707, val loss 2.1197\n",
            "step 1200: train loss 2.0377, val loss 2.0800\n",
            "step 1300: train loss 2.0268, val loss 2.0650\n",
            "step 1400: train loss 1.9918, val loss 2.0356\n",
            "step 1500: train loss 1.9697, val loss 2.0293\n",
            "step 1600: train loss 1.9645, val loss 2.0499\n",
            "step 1700: train loss 1.9404, val loss 2.0129\n",
            "step 1800: train loss 1.9095, val loss 1.9951\n",
            "step 1900: train loss 1.9067, val loss 1.9855\n",
            "step 2000: train loss 1.8854, val loss 1.9948\n",
            "step 2100: train loss 1.8727, val loss 1.9766\n",
            "step 2200: train loss 1.8597, val loss 1.9631\n",
            "step 2300: train loss 1.8530, val loss 1.9516\n",
            "step 2400: train loss 1.8428, val loss 1.9464\n",
            "step 2500: train loss 1.8161, val loss 1.9424\n",
            "step 2600: train loss 1.8283, val loss 1.9406\n",
            "step 2700: train loss 1.8101, val loss 1.9322\n",
            "step 2800: train loss 1.8050, val loss 1.9233\n",
            "step 2900: train loss 1.8033, val loss 1.9289\n",
            "step 3000: train loss 1.7955, val loss 1.9216\n",
            "step 3100: train loss 1.7697, val loss 1.9184\n",
            "step 3200: train loss 1.7541, val loss 1.9088\n",
            "step 3300: train loss 1.7567, val loss 1.9034\n",
            "step 3400: train loss 1.7573, val loss 1.9000\n",
            "step 3500: train loss 1.7398, val loss 1.8925\n",
            "step 3600: train loss 1.7270, val loss 1.8869\n",
            "step 3700: train loss 1.7283, val loss 1.8814\n",
            "step 3800: train loss 1.7210, val loss 1.8918\n",
            "step 3900: train loss 1.7219, val loss 1.8732\n",
            "step 4000: train loss 1.7146, val loss 1.8576\n",
            "step 4100: train loss 1.7136, val loss 1.8720\n",
            "step 4200: train loss 1.7060, val loss 1.8653\n",
            "step 4300: train loss 1.7032, val loss 1.8499\n",
            "step 4400: train loss 1.7057, val loss 1.8656\n",
            "step 4500: train loss 1.6907, val loss 1.8477\n",
            "step 4600: train loss 1.6878, val loss 1.8371\n",
            "step 4700: train loss 1.6808, val loss 1.8415\n",
            "step 4800: train loss 1.6689, val loss 1.8457\n",
            "step 4900: train loss 1.6716, val loss 1.8415\n",
            "step 5000: train loss 1.6681, val loss 1.8301\n",
            "step 5100: train loss 1.6727, val loss 1.8360\n",
            "step 5200: train loss 1.6660, val loss 1.8228\n",
            "step 5300: train loss 1.6669, val loss 1.8267\n",
            "step 5400: train loss 1.6541, val loss 1.8203\n",
            "step 5500: train loss 1.6501, val loss 1.8008\n",
            "step 5600: train loss 1.6627, val loss 1.8156\n",
            "step 5700: train loss 1.6563, val loss 1.8157\n",
            "step 5800: train loss 1.6427, val loss 1.8084\n",
            "step 5900: train loss 1.6441, val loss 1.8064\n",
            "step 6000: train loss 1.6400, val loss 1.8039\n",
            "step 6100: train loss 1.6390, val loss 1.7902\n",
            "step 6200: train loss 1.6488, val loss 1.7955\n",
            "step 6300: train loss 1.6273, val loss 1.7945\n",
            "step 6400: train loss 1.6284, val loss 1.7999\n",
            "step 6500: train loss 1.6244, val loss 1.7869\n",
            "step 6600: train loss 1.6244, val loss 1.7806\n",
            "step 6700: train loss 1.6240, val loss 1.8031\n",
            "step 6800: train loss 1.6230, val loss 1.7968\n",
            "step 6900: train loss 1.6164, val loss 1.7866\n",
            "step 7000: train loss 1.6152, val loss 1.7836\n",
            "step 7100: train loss 1.6179, val loss 1.7873\n",
            "step 7200: train loss 1.6124, val loss 1.7983\n",
            "step 7300: train loss 1.6132, val loss 1.7750\n",
            "step 7400: train loss 1.6105, val loss 1.7854\n",
            "step 7500: train loss 1.5944, val loss 1.7819\n",
            "step 7600: train loss 1.6023, val loss 1.7786\n",
            "step 7700: train loss 1.5963, val loss 1.7702\n",
            "step 7800: train loss 1.6091, val loss 1.7683\n",
            "step 7900: train loss 1.6012, val loss 1.7639\n",
            "step 8000: train loss 1.5946, val loss 1.7734\n",
            "step 8100: train loss 1.5981, val loss 1.7794\n",
            "step 8200: train loss 1.6022, val loss 1.7791\n",
            "step 8300: train loss 1.5935, val loss 1.7674\n",
            "step 8400: train loss 1.6016, val loss 1.7776\n",
            "step 8500: train loss 1.5950, val loss 1.7668\n",
            "step 8600: train loss 1.5916, val loss 1.7715\n",
            "step 8700: train loss 1.5858, val loss 1.7650\n",
            "step 8800: train loss 1.5738, val loss 1.7696\n",
            "step 8900: train loss 1.5848, val loss 1.7464\n",
            "step 9000: train loss 1.5809, val loss 1.7589\n",
            "step 9100: train loss 1.5779, val loss 1.7630\n",
            "step 9200: train loss 1.5887, val loss 1.7625\n",
            "step 9300: train loss 1.5749, val loss 1.7525\n",
            "step 9400: train loss 1.5750, val loss 1.7417\n",
            "step 9500: train loss 1.5763, val loss 1.7602\n",
            "step 9600: train loss 1.5754, val loss 1.7585\n",
            "step 9700: train loss 1.5701, val loss 1.7425\n",
            "step 9800: train loss 1.5607, val loss 1.7542\n",
            "step 9900: train loss 1.5698, val loss 1.7462\n",
            "step 10000: train loss 1.5623, val loss 1.7382\n",
            "step 10100: train loss 1.5660, val loss 1.7535\n",
            "step 10200: train loss 1.5573, val loss 1.7444\n",
            "step 10300: train loss 1.5536, val loss 1.7433\n",
            "step 10400: train loss 1.5680, val loss 1.7514\n",
            "step 10500: train loss 1.5613, val loss 1.7276\n",
            "step 10600: train loss 1.5641, val loss 1.7369\n",
            "step 10700: train loss 1.5607, val loss 1.7481\n",
            "step 10800: train loss 1.5591, val loss 1.7508\n",
            "step 10900: train loss 1.5470, val loss 1.7461\n",
            "step 11000: train loss 1.5500, val loss 1.7412\n",
            "step 11100: train loss 1.5433, val loss 1.7333\n",
            "step 11200: train loss 1.5491, val loss 1.7237\n",
            "step 11300: train loss 1.5513, val loss 1.7522\n",
            "step 11400: train loss 1.5501, val loss 1.7287\n",
            "step 11500: train loss 1.5477, val loss 1.7134\n",
            "step 11600: train loss 1.5548, val loss 1.7216\n",
            "step 11700: train loss 1.5429, val loss 1.7291\n",
            "step 11800: train loss 1.5403, val loss 1.7246\n",
            "step 11900: train loss 1.5473, val loss 1.7206\n",
            "step 12000: train loss 1.5340, val loss 1.7173\n",
            "step 12100: train loss 1.5310, val loss 1.7106\n",
            "step 12200: train loss 1.5423, val loss 1.7338\n",
            "step 12300: train loss 1.5292, val loss 1.7287\n",
            "step 12400: train loss 1.5448, val loss 1.7176\n",
            "step 12500: train loss 1.5444, val loss 1.7175\n",
            "step 12600: train loss 1.5473, val loss 1.7147\n",
            "step 12700: train loss 1.5518, val loss 1.7200\n",
            "step 12800: train loss 1.5422, val loss 1.7361\n",
            "step 12900: train loss 1.5378, val loss 1.7371\n",
            "step 13000: train loss 1.5312, val loss 1.7286\n",
            "step 13100: train loss 1.5339, val loss 1.7183\n",
            "step 13200: train loss 1.5339, val loss 1.7085\n",
            "step 13300: train loss 1.5287, val loss 1.7083\n",
            "step 13400: train loss 1.5346, val loss 1.7099\n",
            "step 13500: train loss 1.5256, val loss 1.7283\n",
            "step 13600: train loss 1.5363, val loss 1.7211\n",
            "step 13700: train loss 1.5265, val loss 1.7279\n",
            "step 13800: train loss 1.5327, val loss 1.7241\n",
            "step 13900: train loss 1.5322, val loss 1.7066\n",
            "step 14000: train loss 1.5218, val loss 1.7116\n",
            "step 14100: train loss 1.5249, val loss 1.7223\n",
            "step 14200: train loss 1.5288, val loss 1.7212\n",
            "step 14300: train loss 1.5225, val loss 1.7217\n",
            "step 14400: train loss 1.5154, val loss 1.7028\n",
            "step 14500: train loss 1.5273, val loss 1.6949\n",
            "step 14600: train loss 1.5251, val loss 1.7099\n",
            "step 14700: train loss 1.5363, val loss 1.7052\n",
            "step 14800: train loss 1.5334, val loss 1.7084\n",
            "step 14900: train loss 1.5275, val loss 1.7018\n",
            "step 15000: train loss 1.5241, val loss 1.7032\n",
            "step 15100: train loss 1.5222, val loss 1.6995\n",
            "step 15200: train loss 1.5163, val loss 1.6920\n",
            "step 15300: train loss 1.5167, val loss 1.6914\n",
            "step 15400: train loss 1.5314, val loss 1.6979\n",
            "step 15500: train loss 1.5122, val loss 1.6910\n",
            "step 15600: train loss 1.5308, val loss 1.6916\n",
            "step 15700: train loss 1.5208, val loss 1.7050\n",
            "step 15800: train loss 1.5164, val loss 1.7035\n",
            "step 15900: train loss 1.5121, val loss 1.7010\n",
            "step 16000: train loss 1.5068, val loss 1.7063\n",
            "step 16100: train loss 1.5164, val loss 1.6982\n",
            "step 16200: train loss 1.5109, val loss 1.7014\n",
            "step 16300: train loss 1.5018, val loss 1.6980\n",
            "step 16400: train loss 1.5170, val loss 1.6956\n",
            "step 16500: train loss 1.5086, val loss 1.7002\n",
            "step 16600: train loss 1.5071, val loss 1.6958\n",
            "step 16700: train loss 1.5036, val loss 1.6895\n",
            "step 16800: train loss 1.5056, val loss 1.6930\n",
            "step 16900: train loss 1.5135, val loss 1.6980\n",
            "step 17000: train loss 1.5179, val loss 1.7095\n",
            "step 17100: train loss 1.5129, val loss 1.7143\n",
            "step 17200: train loss 1.5141, val loss 1.6945\n",
            "step 17300: train loss 1.5074, val loss 1.6819\n",
            "step 17400: train loss 1.5145, val loss 1.7018\n",
            "step 17500: train loss 1.5077, val loss 1.6879\n",
            "step 17600: train loss 1.5001, val loss 1.6855\n",
            "step 17700: train loss 1.5044, val loss 1.7050\n",
            "step 17800: train loss 1.5027, val loss 1.6757\n",
            "step 17900: train loss 1.5097, val loss 1.7070\n",
            "step 18000: train loss 1.4971, val loss 1.6798\n",
            "step 18100: train loss 1.4933, val loss 1.6855\n",
            "step 18200: train loss 1.5004, val loss 1.6993\n",
            "step 18300: train loss 1.5015, val loss 1.6624\n",
            "step 18400: train loss 1.5020, val loss 1.6861\n",
            "step 18500: train loss 1.4971, val loss 1.6835\n",
            "step 18600: train loss 1.4960, val loss 1.6937\n",
            "step 18700: train loss 1.5011, val loss 1.6990\n",
            "step 18800: train loss 1.5024, val loss 1.6920\n",
            "step 18900: train loss 1.5034, val loss 1.6817\n",
            "step 19000: train loss 1.4978, val loss 1.6808\n",
            "step 19100: train loss 1.4926, val loss 1.6764\n",
            "step 19200: train loss 1.5074, val loss 1.6699\n",
            "step 19300: train loss 1.5010, val loss 1.6688\n",
            "step 19400: train loss 1.4927, val loss 1.6978\n",
            "step 19500: train loss 1.5016, val loss 1.7041\n",
            "step 19600: train loss 1.4969, val loss 1.6805\n",
            "step 19700: train loss 1.4990, val loss 1.6852\n",
            "step 19800: train loss 1.4997, val loss 1.6899\n",
            "step 19900: train loss 1.4945, val loss 1.6823\n",
            "step 20000: train loss 1.4761, val loss 1.6742\n",
            "step 20100: train loss 1.4867, val loss 1.6862\n",
            "step 20200: train loss 1.4916, val loss 1.6748\n",
            "step 20300: train loss 1.4878, val loss 1.6761\n",
            "step 20400: train loss 1.4882, val loss 1.6682\n",
            "step 20500: train loss 1.4949, val loss 1.6767\n",
            "step 20600: train loss 1.4962, val loss 1.6792\n",
            "step 20700: train loss 1.4792, val loss 1.6679\n",
            "step 20800: train loss 1.4874, val loss 1.6774\n",
            "step 20900: train loss 1.4906, val loss 1.6675\n",
            "step 21000: train loss 1.4884, val loss 1.6792\n",
            "step 21100: train loss 1.4907, val loss 1.6706\n",
            "step 21200: train loss 1.4898, val loss 1.6775\n",
            "step 21300: train loss 1.4909, val loss 1.7057\n",
            "step 21400: train loss 1.4773, val loss 1.6745\n",
            "step 21500: train loss 1.4871, val loss 1.6802\n",
            "step 21600: train loss 1.4853, val loss 1.6651\n",
            "step 21700: train loss 1.4734, val loss 1.6827\n",
            "step 21800: train loss 1.4790, val loss 1.6722\n",
            "step 21900: train loss 1.4833, val loss 1.6819\n",
            "step 22000: train loss 1.4828, val loss 1.6846\n",
            "step 22100: train loss 1.4801, val loss 1.6881\n",
            "step 22200: train loss 1.4793, val loss 1.6837\n",
            "step 22300: train loss 1.4822, val loss 1.6700\n",
            "step 22400: train loss 1.4887, val loss 1.6735\n",
            "step 22500: train loss 1.4894, val loss 1.6788\n",
            "step 22600: train loss 1.4851, val loss 1.6949\n",
            "step 22700: train loss 1.4875, val loss 1.6811\n",
            "step 22800: train loss 1.4865, val loss 1.6670\n",
            "step 22900: train loss 1.4737, val loss 1.6834\n",
            "step 23000: train loss 1.4827, val loss 1.6744\n",
            "step 23100: train loss 1.4806, val loss 1.6839\n",
            "step 23200: train loss 1.4664, val loss 1.6625\n",
            "step 23300: train loss 1.4847, val loss 1.6706\n",
            "step 23400: train loss 1.4808, val loss 1.6652\n",
            "step 23500: train loss 1.4768, val loss 1.6761\n",
            "step 23600: train loss 1.4833, val loss 1.6729\n",
            "step 23700: train loss 1.4779, val loss 1.6844\n",
            "step 23800: train loss 1.4632, val loss 1.6702\n",
            "step 23900: train loss 1.4752, val loss 1.6711\n",
            "step 24000: train loss 1.4709, val loss 1.6629\n",
            "step 24100: train loss 1.4793, val loss 1.6739\n",
            "step 24200: train loss 1.4639, val loss 1.6573\n",
            "step 24300: train loss 1.4683, val loss 1.6792\n",
            "step 24400: train loss 1.4753, val loss 1.6716\n",
            "step 24500: train loss 1.4725, val loss 1.6708\n",
            "step 24600: train loss 1.4780, val loss 1.6784\n",
            "step 24700: train loss 1.4675, val loss 1.6877\n",
            "step 24800: train loss 1.4717, val loss 1.6635\n",
            "step 24900: train loss 1.4714, val loss 1.6822\n",
            "step 25000: train loss 1.4689, val loss 1.6758\n",
            "step 25100: train loss 1.4746, val loss 1.6600\n",
            "step 25200: train loss 1.4668, val loss 1.6816\n",
            "step 25300: train loss 1.4563, val loss 1.6742\n",
            "step 25400: train loss 1.4728, val loss 1.6741\n",
            "step 25500: train loss 1.4671, val loss 1.6777\n",
            "step 25600: train loss 1.4711, val loss 1.6664\n",
            "step 25700: train loss 1.4640, val loss 1.6709\n",
            "step 25800: train loss 1.4786, val loss 1.6810\n",
            "step 25900: train loss 1.4518, val loss 1.6576\n",
            "step 26000: train loss 1.4654, val loss 1.6691\n",
            "step 26100: train loss 1.4742, val loss 1.6708\n",
            "step 26200: train loss 1.4610, val loss 1.6767\n",
            "step 26300: train loss 1.4683, val loss 1.6758\n",
            "step 26400: train loss 1.4708, val loss 1.6811\n",
            "step 26500: train loss 1.4704, val loss 1.6542\n",
            "step 26600: train loss 1.4657, val loss 1.6677\n",
            "step 26700: train loss 1.4615, val loss 1.6669\n",
            "step 26800: train loss 1.4662, val loss 1.6554\n",
            "step 26900: train loss 1.4602, val loss 1.6655\n",
            "step 27000: train loss 1.4619, val loss 1.6638\n",
            "step 27100: train loss 1.4574, val loss 1.6547\n",
            "step 27200: train loss 1.4689, val loss 1.6605\n",
            "step 27300: train loss 1.4666, val loss 1.6758\n",
            "step 27400: train loss 1.4731, val loss 1.6700\n",
            "step 27500: train loss 1.4735, val loss 1.6629\n",
            "step 27600: train loss 1.4576, val loss 1.6595\n",
            "step 27700: train loss 1.4598, val loss 1.6492\n",
            "step 27800: train loss 1.4587, val loss 1.6498\n",
            "step 27900: train loss 1.4576, val loss 1.6612\n",
            "step 28000: train loss 1.4515, val loss 1.6583\n",
            "step 28100: train loss 1.4756, val loss 1.6535\n",
            "step 28200: train loss 1.4633, val loss 1.6549\n",
            "step 28300: train loss 1.4602, val loss 1.6657\n",
            "step 28400: train loss 1.4538, val loss 1.6625\n",
            "step 28500: train loss 1.4548, val loss 1.6630\n",
            "step 28600: train loss 1.4648, val loss 1.6666\n",
            "step 28700: train loss 1.4502, val loss 1.6680\n",
            "step 28800: train loss 1.4536, val loss 1.6535\n",
            "step 28900: train loss 1.4578, val loss 1.6527\n",
            "step 29000: train loss 1.4647, val loss 1.6595\n",
            "step 29100: train loss 1.4549, val loss 1.6757\n",
            "step 29200: train loss 1.4588, val loss 1.6545\n",
            "step 29300: train loss 1.4475, val loss 1.6406\n",
            "step 29400: train loss 1.4563, val loss 1.6518\n",
            "step 29500: train loss 1.4544, val loss 1.6435\n",
            "step 29600: train loss 1.4540, val loss 1.6483\n",
            "step 29700: train loss 1.4596, val loss 1.6579\n",
            "step 29800: train loss 1.4733, val loss 1.6650\n",
            "step 29900: train loss 1.4613, val loss 1.6534\n",
            "step 30000: train loss 1.4506, val loss 1.6572\n",
            "step 30100: train loss 1.4560, val loss 1.6618\n",
            "step 30200: train loss 1.4487, val loss 1.6589\n",
            "step 30300: train loss 1.4588, val loss 1.6661\n",
            "step 30400: train loss 1.4629, val loss 1.6708\n",
            "step 30500: train loss 1.4679, val loss 1.6679\n",
            "step 30600: train loss 1.4660, val loss 1.6636\n",
            "step 30700: train loss 1.4508, val loss 1.6457\n",
            "step 30800: train loss 1.4532, val loss 1.6528\n",
            "step 30900: train loss 1.4555, val loss 1.6542\n",
            "step 31000: train loss 1.4529, val loss 1.6551\n",
            "step 31100: train loss 1.4427, val loss 1.6659\n",
            "step 31200: train loss 1.4567, val loss 1.6581\n",
            "step 31300: train loss 1.4573, val loss 1.6558\n",
            "step 31400: train loss 1.4586, val loss 1.6581\n",
            "step 31500: train loss 1.4584, val loss 1.6630\n",
            "step 31600: train loss 1.4508, val loss 1.6682\n",
            "step 31700: train loss 1.4545, val loss 1.6611\n",
            "step 31800: train loss 1.4484, val loss 1.6616\n",
            "step 31900: train loss 1.4480, val loss 1.6530\n",
            "step 32000: train loss 1.4393, val loss 1.6591\n",
            "step 32100: train loss 1.4509, val loss 1.6645\n",
            "step 32200: train loss 1.4538, val loss 1.6633\n",
            "step 32300: train loss 1.4557, val loss 1.6581\n",
            "step 32400: train loss 1.4450, val loss 1.6581\n",
            "step 32500: train loss 1.4482, val loss 1.6579\n",
            "step 32600: train loss 1.4530, val loss 1.6482\n",
            "step 32700: train loss 1.4593, val loss 1.6566\n",
            "step 32800: train loss 1.4484, val loss 1.6576\n",
            "step 32900: train loss 1.4448, val loss 1.6566\n",
            "step 33000: train loss 1.4502, val loss 1.6442\n",
            "step 33100: train loss 1.4530, val loss 1.6490\n",
            "step 33200: train loss 1.4578, val loss 1.6572\n",
            "step 33300: train loss 1.4593, val loss 1.6457\n",
            "step 33400: train loss 1.4539, val loss 1.6665\n",
            "step 33500: train loss 1.4563, val loss 1.6596\n",
            "step 33600: train loss 1.4426, val loss 1.6554\n",
            "step 33700: train loss 1.4465, val loss 1.6508\n",
            "step 33800: train loss 1.4482, val loss 1.6521\n",
            "step 33900: train loss 1.4391, val loss 1.6496\n",
            "step 34000: train loss 1.4477, val loss 1.6523\n",
            "step 34100: train loss 1.4484, val loss 1.6476\n",
            "step 34200: train loss 1.4435, val loss 1.6631\n",
            "step 34300: train loss 1.4508, val loss 1.6559\n",
            "step 34400: train loss 1.4462, val loss 1.6700\n",
            "step 34500: train loss 1.4454, val loss 1.6465\n",
            "step 34600: train loss 1.4445, val loss 1.6584\n",
            "step 34700: train loss 1.4515, val loss 1.6572\n",
            "step 34800: train loss 1.4460, val loss 1.6607\n",
            "step 34900: train loss 1.4580, val loss 1.6623\n",
            "step 35000: train loss 1.4456, val loss 1.6431\n",
            "step 35100: train loss 1.4357, val loss 1.6384\n",
            "step 35200: train loss 1.4495, val loss 1.6512\n",
            "step 35300: train loss 1.4381, val loss 1.6632\n",
            "step 35400: train loss 1.4426, val loss 1.6521\n",
            "step 35500: train loss 1.4368, val loss 1.6487\n",
            "step 35600: train loss 1.4397, val loss 1.6526\n",
            "step 35700: train loss 1.4344, val loss 1.6634\n",
            "step 35800: train loss 1.4479, val loss 1.6388\n",
            "step 35900: train loss 1.4515, val loss 1.6468\n",
            "step 36000: train loss 1.4365, val loss 1.6454\n",
            "step 36100: train loss 1.4345, val loss 1.6454\n",
            "step 36200: train loss 1.4366, val loss 1.6360\n",
            "step 36300: train loss 1.4323, val loss 1.6465\n",
            "step 36400: train loss 1.4425, val loss 1.6529\n",
            "step 36500: train loss 1.4446, val loss 1.6429\n",
            "step 36600: train loss 1.4430, val loss 1.6445\n",
            "step 36700: train loss 1.4362, val loss 1.6486\n",
            "step 36800: train loss 1.4364, val loss 1.6523\n",
            "step 36900: train loss 1.4395, val loss 1.6370\n",
            "step 37000: train loss 1.4478, val loss 1.6466\n",
            "step 37100: train loss 1.4392, val loss 1.6513\n",
            "step 37200: train loss 1.4401, val loss 1.6513\n",
            "step 37300: train loss 1.4401, val loss 1.6613\n",
            "step 37400: train loss 1.4436, val loss 1.6554\n",
            "step 37500: train loss 1.4423, val loss 1.6542\n",
            "step 37600: train loss 1.4305, val loss 1.6431\n",
            "step 37700: train loss 1.4379, val loss 1.6454\n",
            "step 37800: train loss 1.4395, val loss 1.6720\n",
            "step 37900: train loss 1.4531, val loss 1.6508\n",
            "step 38000: train loss 1.4367, val loss 1.6498\n",
            "step 38100: train loss 1.4343, val loss 1.6366\n",
            "step 38200: train loss 1.4428, val loss 1.6458\n",
            "step 38300: train loss 1.4409, val loss 1.6337\n",
            "step 38400: train loss 1.4368, val loss 1.6395\n",
            "step 38500: train loss 1.4486, val loss 1.6520\n",
            "step 38600: train loss 1.4379, val loss 1.6360\n",
            "step 38700: train loss 1.4436, val loss 1.6383\n",
            "step 38800: train loss 1.4344, val loss 1.6372\n",
            "step 38900: train loss 1.4343, val loss 1.6395\n",
            "step 39000: train loss 1.4319, val loss 1.6402\n",
            "step 39100: train loss 1.4264, val loss 1.6456\n",
            "step 39200: train loss 1.4316, val loss 1.6635\n",
            "step 39300: train loss 1.4333, val loss 1.6411\n",
            "step 39400: train loss 1.4336, val loss 1.6555\n",
            "step 39500: train loss 1.4284, val loss 1.6574\n",
            "step 39600: train loss 1.4356, val loss 1.6645\n",
            "step 39700: train loss 1.4277, val loss 1.6438\n",
            "step 39800: train loss 1.4306, val loss 1.6385\n",
            "step 39900: train loss 1.4268, val loss 1.6421\n",
            "step 40000: train loss 1.4365, val loss 1.6367\n",
            "step 40100: train loss 1.4384, val loss 1.6386\n",
            "step 40200: train loss 1.4295, val loss 1.6592\n",
            "step 40300: train loss 1.4397, val loss 1.6514\n",
            "step 40400: train loss 1.4396, val loss 1.6497\n",
            "step 40500: train loss 1.4302, val loss 1.6498\n",
            "step 40600: train loss 1.4372, val loss 1.6520\n",
            "step 40700: train loss 1.4366, val loss 1.6535\n",
            "step 40800: train loss 1.4441, val loss 1.6363\n",
            "step 40900: train loss 1.4321, val loss 1.6456\n",
            "step 41000: train loss 1.4260, val loss 1.6470\n",
            "step 41100: train loss 1.4423, val loss 1.6473\n",
            "step 41200: train loss 1.4297, val loss 1.6305\n",
            "step 41300: train loss 1.4197, val loss 1.6484\n",
            "step 41400: train loss 1.4330, val loss 1.6502\n",
            "step 41500: train loss 1.4370, val loss 1.6499\n",
            "step 41600: train loss 1.4368, val loss 1.6420\n",
            "step 41700: train loss 1.4385, val loss 1.6378\n",
            "step 41800: train loss 1.4276, val loss 1.6486\n",
            "step 41900: train loss 1.4369, val loss 1.6483\n",
            "step 42000: train loss 1.4342, val loss 1.6453\n",
            "step 42100: train loss 1.4259, val loss 1.6447\n",
            "step 42200: train loss 1.4395, val loss 1.6497\n",
            "step 42300: train loss 1.4321, val loss 1.6467\n",
            "step 42400: train loss 1.4234, val loss 1.6352\n",
            "step 42500: train loss 1.4253, val loss 1.6236\n",
            "step 42600: train loss 1.4325, val loss 1.6423\n",
            "step 42700: train loss 1.4241, val loss 1.6490\n",
            "step 42800: train loss 1.4356, val loss 1.6519\n",
            "step 42900: train loss 1.4400, val loss 1.6532\n",
            "step 43000: train loss 1.4288, val loss 1.6494\n",
            "step 43100: train loss 1.4277, val loss 1.6499\n",
            "step 43200: train loss 1.4353, val loss 1.6393\n",
            "step 43300: train loss 1.4274, val loss 1.6485\n",
            "step 43400: train loss 1.4288, val loss 1.6452\n",
            "step 43500: train loss 1.4278, val loss 1.6364\n",
            "step 43600: train loss 1.4181, val loss 1.6300\n",
            "step 43700: train loss 1.4308, val loss 1.6404\n",
            "step 43800: train loss 1.4339, val loss 1.6457\n",
            "step 43900: train loss 1.4369, val loss 1.6406\n",
            "step 44000: train loss 1.4224, val loss 1.6488\n",
            "step 44100: train loss 1.4290, val loss 1.6265\n",
            "step 44200: train loss 1.4382, val loss 1.6347\n",
            "step 44300: train loss 1.4399, val loss 1.6497\n",
            "step 44400: train loss 1.4242, val loss 1.6278\n",
            "step 44500: train loss 1.4163, val loss 1.6043\n",
            "step 44600: train loss 1.4193, val loss 1.6317\n",
            "step 44700: train loss 1.4342, val loss 1.6416\n",
            "step 44800: train loss 1.4307, val loss 1.6279\n",
            "step 44900: train loss 1.4247, val loss 1.6132\n",
            "step 45000: train loss 1.4215, val loss 1.6341\n",
            "step 45100: train loss 1.4297, val loss 1.6331\n",
            "step 45200: train loss 1.4303, val loss 1.6475\n",
            "step 45300: train loss 1.4271, val loss 1.6417\n",
            "step 45400: train loss 1.4220, val loss 1.6354\n",
            "step 45500: train loss 1.4195, val loss 1.6381\n",
            "step 45600: train loss 1.4286, val loss 1.6513\n",
            "step 45700: train loss 1.4281, val loss 1.6380\n",
            "step 45800: train loss 1.4249, val loss 1.6359\n",
            "step 45900: train loss 1.4260, val loss 1.6321\n",
            "step 46000: train loss 1.4228, val loss 1.6355\n",
            "step 46100: train loss 1.4255, val loss 1.6298\n",
            "step 46200: train loss 1.4305, val loss 1.6353\n",
            "step 46300: train loss 1.4244, val loss 1.6311\n",
            "step 46400: train loss 1.4270, val loss 1.6524\n",
            "step 46500: train loss 1.4244, val loss 1.6437\n",
            "step 46600: train loss 1.4314, val loss 1.6407\n",
            "step 46700: train loss 1.4193, val loss 1.6468\n",
            "step 46800: train loss 1.4282, val loss 1.6210\n",
            "step 46900: train loss 1.4237, val loss 1.6323\n",
            "step 47000: train loss 1.4197, val loss 1.6405\n",
            "step 47100: train loss 1.4219, val loss 1.6299\n",
            "step 47200: train loss 1.4321, val loss 1.6401\n",
            "step 47300: train loss 1.4212, val loss 1.6222\n",
            "step 47400: train loss 1.4287, val loss 1.6400\n",
            "step 47500: train loss 1.4245, val loss 1.6393\n",
            "step 47600: train loss 1.4215, val loss 1.6448\n",
            "step 47700: train loss 1.4181, val loss 1.6404\n",
            "step 47800: train loss 1.4218, val loss 1.6496\n",
            "step 47900: train loss 1.4333, val loss 1.6590\n",
            "step 48000: train loss 1.4294, val loss 1.6467\n",
            "step 48100: train loss 1.4331, val loss 1.6372\n",
            "step 48200: train loss 1.4274, val loss 1.6517\n",
            "step 48300: train loss 1.4179, val loss 1.6348\n",
            "step 48400: train loss 1.4162, val loss 1.6363\n",
            "step 48500: train loss 1.4216, val loss 1.6382\n",
            "step 48600: train loss 1.4234, val loss 1.6429\n",
            "step 48700: train loss 1.4151, val loss 1.6391\n",
            "step 48800: train loss 1.4207, val loss 1.6439\n",
            "step 48900: train loss 1.4231, val loss 1.6498\n",
            "step 49000: train loss 1.4213, val loss 1.6471\n",
            "step 49100: train loss 1.4213, val loss 1.6332\n",
            "step 49200: train loss 1.4230, val loss 1.6594\n",
            "step 49300: train loss 1.4286, val loss 1.6493\n",
            "step 49400: train loss 1.4231, val loss 1.6325\n",
            "step 49500: train loss 1.4226, val loss 1.6265\n",
            "step 49600: train loss 1.4218, val loss 1.6615\n",
            "step 49700: train loss 1.4135, val loss 1.6616\n",
            "step 49800: train loss 1.4148, val loss 1.6405\n",
            "step 49900: train loss 1.4092, val loss 1.6368\n",
            "step 49999: train loss 1.4199, val loss 1.6532\n",
            "\n",
            "GLOUCESTER:\n",
            "Here's says he is not great, neither nor bed,\n",
            "That stir them me: a earthds\n",
            "Is virterator beft is; he conscies?\n",
            "\n",
            "VERRAYIUS:\n",
            "Else down ipossable of one.\n",
            "\n",
            "KING RICHARD III:\n",
            "Ah, thou pluck on Lord. Gait, if the higheral, and seruch of speed\n",
            "Traitors with a news, I'll ove your grant I'll and you.\n",
            "\n",
            "KING EDWARRY VI:\n",
            "For told my here need arms,\n",
            "With it caper'd hence o' as all the true!\n",
            "The queen me, my grievance.\n",
            "\n",
            "ANGELO:\n",
            "The sade I give a bose perfected.\n",
            "\n",
            "FROTRENCE:\n",
            "My lord, good, swear; I'll do that\n",
            "you say a most morning by sovereigns\n",
            "The joy: which the ear, unto farm,\n",
            "Wherein my grave Englind; lefts quails lead!\n",
            "Here was he been amble hon:\n",
            "But may, that words with his fortune,\n",
            "I do bear speed, that he must have made here they were not,\n",
            "He's traitiest your friendship,\n",
            "Amine dried lethen, the duke. Was here intermens 'tis them!\n",
            "\n",
            "JUAGE:\n",
            "Cominine!\n",
            "It is foot gives a depart.\n",
            "But give men that I injust: vet thou to-enjoy\n",
            "Didstitles her hearts to-morrow,\n",
            "Not better way these queen and fiery.\n",
            "\n",
            "CALET:\n",
            "So, I like use? I said: but, let's love,\n",
            "Is in, their state, upon what you be do Edward warwice?\n",
            "\n",
            "BALTUS:\n",
            "So put any, Clifford, my art life,\n",
            "Whose charled fourth of him: when child not venture;\n",
            "This pury so protect in a glory: ere you thanke.\n",
            "\n",
            "DUCHESS OF YORK:\n",
            "What you out well, Larting is care.\n",
            "\n",
            "SALRICENIUS:\n",
            "Come, pray you revelphany? they speak togetime king,\n",
            "I neve thee, nour our good, your word cousinmend,\n",
            "Even with cheased me sled\n",
            "That dog Coid in my live is\n",
            "That, for thrive not with true.\n",
            "\n",
            "PERDITA:\n",
            "Frost any fellow her lell.\n",
            "\n",
            "KING RICHARD II:\n",
            "My teeth for mine all, that king,\n",
            "And more thus? and of night!\n",
            "\n",
            "TYBALD:\n",
            "My lamb; for let I have reason kneels,\n",
            "We do my unswearing may my knowlingd Marjay, and true o'erboth the straight\n",
            "With Bueter 'passaged that took my be\n",
            "commands with spoist Richard wrath.\n",
            "I warm, tider his duke: as, child it were to your peace.\n",
            "\n",
            "DUKE VINCENTIO:\n",
            "As if that thou intendantoned and teath me sun:\n",
            "Sit ise is done seen?\n",
            "\n",
            "HERMIONE:\n",
            "My lord, ear \n"
          ]
        }
      ]
    },
    {
      "cell_type": "code",
      "source": [],
      "metadata": {
        "id": "fjjvMifYZf7x"
      },
      "execution_count": null,
      "outputs": []
    }
  ]
}